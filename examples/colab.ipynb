{
  "nbformat": 4,
  "nbformat_minor": 0,
  "metadata": {
    "colab": {
      "name": "Untitled6.ipynb",
      "provenance": [],
      "authorship_tag": "ABX9TyM0X581zvpB8EXDUk86L9QL"
    },
    "kernelspec": {
      "name": "python3",
      "display_name": "Python 3"
    }
  },
  "cells": [
    {
      "cell_type": "code",
      "metadata": {
        "id": "zpNJNiLTdMBo"
      },
      "source": [
        "print('test')"
      ],
      "execution_count": null,
      "outputs": []
    }
  ]
}